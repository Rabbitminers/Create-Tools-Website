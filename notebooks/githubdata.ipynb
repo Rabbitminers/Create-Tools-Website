{
 "cells": [
  {
   "cell_type": "code",
   "execution_count": 2,
   "metadata": {},
   "outputs": [],
   "source": [
    "import requests"
   ]
  },
  {
   "cell_type": "code",
   "execution_count": 3,
   "metadata": {},
   "outputs": [],
   "source": [
    "url = \"https://api.github.com/users/rabbitminers/events\"\n",
    "\n",
    "data = requests.get(url).json()"
   ]
  },
  {
   "cell_type": "code",
   "execution_count": 16,
   "metadata": {},
   "outputs": [
    {
     "name": "stdout",
     "output_type": "stream",
     "text": [
      "24094280384\n",
      "24093219726\n",
      "24072982180\n",
      "24072390072\n",
      "24072383154\n",
      "24072105008\n",
      "24072104727\n",
      "24072028369\n",
      "24072022306\n",
      "24072022119\n",
      "23983522766\n",
      "23983481235\n",
      "23983475760\n",
      "23939102767\n",
      "23939102505\n",
      "23936450444\n",
      "23936180258\n",
      "23933890685\n",
      "23933880686\n",
      "23933809866\n",
      "23933809644\n",
      "23921808489\n",
      "23921643988\n",
      "23918547938\n",
      "23800838649\n",
      "23797450055\n",
      "23797411471\n",
      "23773318950\n",
      "23773314315\n",
      "23772662673\n",
      "True\n"
     ]
    }
   ],
   "source": [
    "\n",
    "if data[0][\"repo\"][\"id\"] == 538068349:\n",
    "    print(\"True\")"
   ]
  }
 ],
 "metadata": {
  "kernelspec": {
   "display_name": "Python 3.10.5 64-bit",
   "language": "python",
   "name": "python3"
  },
  "language_info": {
   "codemirror_mode": {
    "name": "ipython",
    "version": 3
   },
   "file_extension": ".py",
   "mimetype": "text/x-python",
   "name": "python",
   "nbconvert_exporter": "python",
   "pygments_lexer": "ipython3",
   "version": "3.10.5"
  },
  "orig_nbformat": 4,
  "vscode": {
   "interpreter": {
    "hash": "767d51c1340bd893661ea55ea3124f6de3c7a262a8b4abca0554b478b1e2ff90"
   }
  }
 },
 "nbformat": 4,
 "nbformat_minor": 2
}
